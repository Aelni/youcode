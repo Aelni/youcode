{
 "cells": [
  {
   "cell_type": "code",
   "execution_count": 20,
   "id": "6417c0d4-c285-43cb-b4f8-49adae043adf",
   "metadata": {},
   "outputs": [
    {
     "data": {
      "text/html": [
       "<div>\n",
       "<style scoped>\n",
       "    .dataframe tbody tr th:only-of-type {\n",
       "        vertical-align: middle;\n",
       "    }\n",
       "\n",
       "    .dataframe tbody tr th {\n",
       "        vertical-align: top;\n",
       "    }\n",
       "\n",
       "    .dataframe thead th {\n",
       "        text-align: right;\n",
       "    }\n",
       "</style>\n",
       "<table border=\"1\" class=\"dataframe\">\n",
       "  <thead>\n",
       "    <tr style=\"text-align: right;\">\n",
       "      <th></th>\n",
       "      <th>Pays</th>\n",
       "      <th>Age</th>\n",
       "      <th>Genre</th>\n",
       "      <th>Dépenses des clients</th>\n",
       "    </tr>\n",
       "  </thead>\n",
       "  <tbody>\n",
       "    <tr>\n",
       "      <th>0</th>\n",
       "      <td>France</td>\n",
       "      <td>32</td>\n",
       "      <td>Female</td>\n",
       "      <td>150.50</td>\n",
       "    </tr>\n",
       "    <tr>\n",
       "      <th>1</th>\n",
       "      <td>Germany</td>\n",
       "      <td>45</td>\n",
       "      <td>Male</td>\n",
       "      <td>200.75</td>\n",
       "    </tr>\n",
       "    <tr>\n",
       "      <th>2</th>\n",
       "      <td>Spain</td>\n",
       "      <td>28</td>\n",
       "      <td>Female</td>\n",
       "      <td>75.25</td>\n",
       "    </tr>\n",
       "    <tr>\n",
       "      <th>3</th>\n",
       "      <td>Italy</td>\n",
       "      <td>39</td>\n",
       "      <td>Male</td>\n",
       "      <td>180.00</td>\n",
       "    </tr>\n",
       "    <tr>\n",
       "      <th>4</th>\n",
       "      <td>UK</td>\n",
       "      <td>52</td>\n",
       "      <td>Female</td>\n",
       "      <td>250.30</td>\n",
       "    </tr>\n",
       "  </tbody>\n",
       "</table>\n",
       "</div>"
      ],
      "text/plain": [
       "      Pays  Age    Genre Dépenses des clients\n",
       "0   France    32  Female               150.50\n",
       "1  Germany    45    Male               200.75\n",
       "2    Spain    28  Female                75.25\n",
       "3    Italy    39    Male               180.00\n",
       "4       UK    52  Female               250.30"
      ]
     },
     "metadata": {},
     "output_type": "display_data"
    }
   ],
   "source": [
    "import pandas as pd\n",
    "import seaborn as sns\n",
    "import matplotlib.pyplot as plt\n",
    "\n",
    "df = pd.read_csv('data-sell4all.csv')\n",
    "\n",
    "display(df.head(5))\n"
   ]
  },
  {
   "cell_type": "code",
   "execution_count": 21,
   "id": "da50b1ba-4547-468b-b8e9-b03285e23d0b",
   "metadata": {},
   "outputs": [
    {
     "name": "stdout",
     "output_type": "stream",
     "text": [
      "<class 'pandas.core.frame.DataFrame'>\n",
      "RangeIndex: 65 entries, 0 to 64\n",
      "Data columns (total 4 columns):\n",
      " #   Column                Non-Null Count  Dtype \n",
      "---  ------                --------------  ----- \n",
      " 0   Pays                  65 non-null     object\n",
      " 1    Age                  63 non-null     object\n",
      " 2   Genre                 64 non-null     object\n",
      " 3   Dépenses des clients  64 non-null     object\n",
      "dtypes: object(4)\n",
      "memory usage: 2.2+ KB\n",
      "None\n"
     ]
    }
   ],
   "source": [
    "# Résumé technique des données\n",
    "print(df.info())\n"
   ]
  },
  {
   "cell_type": "code",
   "execution_count": 22,
   "id": "45f8fe65-021f-424e-a98d-e37bd72f336b",
   "metadata": {},
   "outputs": [
    {
     "name": "stdout",
     "output_type": "stream",
     "text": [
      "Médiane de l'âge : 36.5\n",
      "Moyenne de l'âge : 54.232142857142854\n",
      "Médiane des dépenses des clients : 167.5\n",
      "Moyenne des dépenses des clients : 18014.616964285717\n"
     ]
    }
   ],
   "source": [
    "df[' Age '] = pd.to_numeric(df[' Age '], errors='coerce')\n",
    "\n",
    "df['Dépenses des clients'] = pd.to_numeric(df['Dépenses des clients'], errors='coerce')\n",
    "\n",
    "df_cleaned = df.dropna(subset=[' Age ', 'Dépenses des clients'])\n",
    "\n",
    "median_age = df_cleaned[' Age '].median()\n",
    "mean_age = df_cleaned[' Age '].mean()\n",
    "median_spending = df_cleaned['Dépenses des clients'].median()\n",
    "mean_spending = df_cleaned['Dépenses des clients'].mean()\n",
    "\n",
    "print(f\"Médiane de l'âge : {median_age}\")\n",
    "print(f\"Moyenne de l'âge : {mean_age}\")\n",
    "print(f\"Médiane des dépenses des clients : {median_spending}\")\n",
    "print(f\"Moyenne des dépenses des clients : {mean_spending}\")\n",
    "\n"
   ]
  },
  {
   "cell_type": "code",
   "execution_count": 24,
   "id": "9b829414-0b75-4616-bc5f-ad505ab9e687",
   "metadata": {},
   "outputs": [
    {
     "data": {
      "image/png": "[encoded data removed]",
      "text/plain": [
       "<Figure size 1200x600 with 1 Axes>"
      ]
     },
     "metadata": {},
     "output_type": "display_data"
    }
   ],
   "source": [
    "\n",
    "\n",
    "\n",
    "df_filtered_spending = df[df['Dépenses des clients'] >= 10]\n",
    "\n",
    
    "df_cleaned = df_filtered_spending.drop_duplicates()\n",
    "\n",
    
    "columns_to_keep = ['Pays', ' Age ', 'Genre', 'Dépenses des clients']\n",
    "df_final = df_cleaned[columns_to_keep]\n",
    "\n",
    "df_final_trimmed = df_final.iloc[:-3]\n",
    "\n",
    
    "df_final_trimmed.to_csv('cleaned_dataset_sell4all.csv', index=False)\n",
    "\n",
    
    "plt.figure(figsize=(12, 6))\n",
    "sns.barplot(x='Pays', y='Dépenses des clients', data=df_final_trimmed, errorbar=None)\n",
    "plt.show()\n"
   ]
  },
  {
   "cell_type": "code",
   "execution_count": null,
   "id": "a700df52-d350-4d2c-b102-2b662a3c69d4",
   "metadata": {},
   "outputs": [],
   "source": []
  }
 ],
 "metadata": {
  "kernelspec": {
   "display_name": "Python 3 (ipykernel)",
   "language": "python",
   "name": "python3"
  },
  "language_info": {
   "codemirror_mode": {
    "name": "ipython",
    "version": 3
   },
   "file_extension": ".py",
   "mimetype": "text/x-python",
   "name": "python",
   "nbconvert_exporter": "python",
   "pygments_lexer": "ipython3",
   "version": "3.12.4"
  }
 },
 "nbformat": 4,
 "nbformat_minor": 5
}
